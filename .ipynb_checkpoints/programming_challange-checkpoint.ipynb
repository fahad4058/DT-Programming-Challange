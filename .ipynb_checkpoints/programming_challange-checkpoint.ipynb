{
 "cells": [
  {
   "cell_type": "markdown",
   "metadata": {},
   "source": [
    "# Submission by:\n",
    "#### Fahad Maqsood\n",
    "#### Dated: 28-12-2021"
   ]
  },
  {
   "cell_type": "markdown",
   "metadata": {},
   "source": [
    "# Task 1: Data Engineering\n",
    "*********************************************"
   ]
  },
  {
   "cell_type": "markdown",
   "metadata": {},
   "source": [
    "# Initializiation and Importing all the necessary Modules and Libraries"
   ]
  },
  {
   "cell_type": "code",
   "execution_count": 1,
   "metadata": {},
   "outputs": [],
   "source": [
    "import os\n",
    "import sys\n",
    "\n",
    "os.environ['PYSPARK_PYTHON'] = sys.executable\n",
    "os.environ['PYSPARK_DRIVER_PYTHON'] = sys.executable\n",
    "\n",
    "import findspark\n",
    "findspark.init()\n",
    "findspark.find()\n",
    "import pyspark\n",
    "\n",
    "from pyspark.sql import SparkSession\n",
    "from pyspark import SparkContext, SparkConf\n",
    "from pyspark.sql import SQLContext\n",
    "from pyspark.sql.types import * \n",
    "from pyspark.sql.functions import *\n",
    "\n",
    "import pandas \n",
    "\n",
    "\n",
    "conf = pyspark.SparkConf().setAppName('Daimler Programming_Challange').setMaster('local')\n",
    "sc = pyspark.SparkContext(conf=conf)\n",
    "spark = SparkSession(sc)\n",
    "sqlcontext=SQLContext(sc)"
   ]
  },
  {
   "cell_type": "code",
   "execution_count": 2,
   "metadata": {},
   "outputs": [
    {
     "data": {
      "text/html": [
       "\n",
       "            <div>\n",
       "                <p><b>SparkSession - in-memory</b></p>\n",
       "                \n",
       "        <div>\n",
       "            <p><b>SparkContext</b></p>\n",
       "\n",
       "            <p><a href=\"http://LAPTOP-8VM69DBC:4040\">Spark UI</a></p>\n",
       "\n",
       "            <dl>\n",
       "              <dt>Version</dt>\n",
       "                <dd><code>v3.1.1</code></dd>\n",
       "              <dt>Master</dt>\n",
       "                <dd><code>local</code></dd>\n",
       "              <dt>AppName</dt>\n",
       "                <dd><code>Daimler Programming_Challange</code></dd>\n",
       "            </dl>\n",
       "        </div>\n",
       "        \n",
       "            </div>\n",
       "        "
      ],
      "text/plain": [
       "<pyspark.sql.session.SparkSession at 0x1c0d8c10d08>"
      ]
     },
     "execution_count": 2,
     "metadata": {},
     "output_type": "execute_result"
    }
   ],
   "source": [
    "# Testing Creation of a Spark Session\n",
    "spark"
   ]
  },
  {
   "cell_type": "markdown",
   "metadata": {},
   "source": [
    "## 1- Loading Data/Data Extraction  \n"
   ]
  },
  {
   "cell_type": "code",
   "execution_count": 3,
   "metadata": {},
   "outputs": [],
   "source": [
    "# Extracting Excel sheets sales_codes, vehicle_hash and engines from vehicle_data.xlsx\n",
    "sales_codes = pandas.read_excel('vehicle_data.xlsx', sheet_name='sales_codes', inferSchema=True)\n",
    "vehicle_hash = pandas.read_excel('vehicle_data.xlsx', sheet_name='vehicle_hash', inferSchema=True)\n",
    "engines = pandas.read_excel('vehicle_data.xlsx', sheet_name='engines', inferSchema=True)\n",
    "\n",
    "# Conversion of excel sheets to csv files with their respective names\n",
    "sales_codes.to_csv('sales_codes.csv', encoding='utf-8')\n",
    "vehicle_hash.to_csv('vehicle_hash.csv', encoding='utf-8')\n",
    "engines.to_csv('engines.csv', encoding='utf-8')\n",
    "\n",
    "# Output:  sales_codes.csv, vehicle_hash.csv, engines.csv created.\n",
    "# Check if the DATA is READY for further processing"
   ]
  },
  {
   "cell_type": "markdown",
   "metadata": {},
   "source": [
    "#### Creating Spark Dataframes from the csv files  "
   ]
  },
  {
   "cell_type": "code",
   "execution_count": 4,
   "metadata": {},
   "outputs": [],
   "source": [
    "# Loading data from the csv files into the dataframes of the same name\n",
    "sales_codes_df=spark.read.csv('sales_codes.csv',inferSchema=True,header=True)\n",
    "vehicle_hash_df=spark.read.csv('vehicle_hash.csv',inferSchema=True,header=True)\n",
    "engines_df=spark.read.csv('engines.csv',inferSchema=True,header=True)"
   ]
  },
  {
   "cell_type": "code",
   "execution_count": 5,
   "metadata": {},
   "outputs": [
    {
     "name": "stdout",
     "output_type": "stream",
     "text": [
      "+---+----------+--------------------+-------------------+---------+--------------------+\n",
      "|_c0|Unnamed: 0|      h_vehicle_hash|    production_date|  country|    sales_code_array|\n",
      "+---+----------+--------------------+-------------------+---------+--------------------+\n",
      "|  0|         0|924d229bede272c5a...|2013-02-05 00:00:00|  Namibia|Z5E, M3E, A4S, Y1...|\n",
      "|  1|         0|3787a8db036dabd74...|2012-08-27 00:00:00|  Germany|Z5D, M2N, K1X, Q2...|\n",
      "|  2|         0|aea31cdf4f575acf1...|2015-08-11 00:00:00|  Germany|Z5C, M2A, A5H, P7...|\n",
      "|  3|         0|d92ed338496281e08...|2015-02-22 00:00:00|Lithuania|Z5F, M3P, D3H, C8...|\n",
      "|  4|         0|7934c4872515da4b1...|2017-03-10 00:00:00|  Germany|Z5B, M1K, L1T, E6...|\n",
      "+---+----------+--------------------+-------------------+---------+--------------------+\n",
      "only showing top 5 rows\n",
      "\n",
      "+---+----------+--------------------+-----------------+-------------+--------------------+\n",
      "|_c0|Unnamed: 0|      h_vehicle_hash|              fin|record_source|             load_ts|\n",
      "+---+----------+--------------------+-----------------+-------------+--------------------+\n",
      "|  0|         0|924d229bede272c5a...|WEB14561113188001|        vedoc|2021-11-26 12:22:...|\n",
      "|  1|         0|3787a8db036dabd74...|W1T61600516560507|        vedoc|2021-11-26 12:22:...|\n",
      "|  2|         0|aea31cdf4f575acf1...|WEB74212637167838|        vedoc|2021-11-26 12:22:...|\n",
      "|  3|         0|d92ed338496281e08...|WDB73045113294326|        vedoc|2021-11-26 12:22:...|\n",
      "|  4|         0|7934c4872515da4b1...|W1T38483757441350|        vedoc|2021-11-26 12:22:...|\n",
      "+---+----------+--------------------+-----------------+-------------+--------------------+\n",
      "only showing top 5 rows\n",
      "\n",
      "+---+-------------+--------------------+-------------------+-------------+----------+-------------------+-------------------+\n",
      "|_c0|Code Group Id| Code Group Name En |Code Group Name De |  Folder Name|Sales Code|Code Description En|Code Description De|\n",
      "+---+-------------+--------------------+-------------------+-------------+----------+-------------------+-------------------+\n",
      "|  0|          131|powertrain engine...|     motor baureihe|06 Powertrain|       M0I|             OM 924|             OM 924|\n",
      "|  1|          131|powertrain engine...|     motor baureihe|06 Powertrain|       M0J|             OM 926|             OM 926|\n",
      "|  2|          131|powertrain engine...|     motor baureihe|06 Powertrain|       Z5A|             M 936G|             M 936G|\n",
      "|  3|          131|powertrain engine...|     motor baureihe|06 Powertrain|       Z5B|             OM 934|             OM 934|\n",
      "|  4|          131|powertrain engine...|     motor baureihe|06 Powertrain|       Z5C|             OM 936|             OM 936|\n",
      "+---+-------------+--------------------+-------------------+-------------+----------+-------------------+-------------------+\n",
      "only showing top 5 rows\n",
      "\n",
      "root\n",
      " |-- _c0: integer (nullable = true)\n",
      " |-- Unnamed: 0: integer (nullable = true)\n",
      " |-- h_vehicle_hash: string (nullable = true)\n",
      " |-- production_date: string (nullable = true)\n",
      " |-- country: string (nullable = true)\n",
      " |-- sales_code_array: string (nullable = true)\n",
      "\n",
      "root\n",
      " |-- _c0: integer (nullable = true)\n",
      " |-- Unnamed: 0: integer (nullable = true)\n",
      " |-- h_vehicle_hash: string (nullable = true)\n",
      " |-- fin: string (nullable = true)\n",
      " |-- record_source: string (nullable = true)\n",
      " |-- load_ts: string (nullable = true)\n",
      "\n",
      "root\n",
      " |-- _c0: integer (nullable = true)\n",
      " |-- Code Group Id: integer (nullable = true)\n",
      " |-- Code Group Name En : string (nullable = true)\n",
      " |-- Code Group Name De : string (nullable = true)\n",
      " |-- Folder Name: string (nullable = true)\n",
      " |-- Sales Code: string (nullable = true)\n",
      " |-- Code Description En: string (nullable = true)\n",
      " |-- Code Description De: string (nullable = true)\n",
      "\n"
     ]
    }
   ],
   "source": [
    "# Displaying the dataframes with schemas\n",
    "sales_codes_df.show(5)\n",
    "vehicle_hash_df.show(5)\n",
    "engines_df.show(5)\n",
    "sales_codes_df.printSchema()\n",
    "vehicle_hash_df.printSchema()\n",
    "engines_df.printSchema()"
   ]
  },
  {
   "cell_type": "markdown",
   "metadata": {},
   "source": [
    "### Initial Data Analysis and Observations\n",
    "\n",
    "#### Testing Data and Looking for corrupt values and errors"
   ]
  },
  {
   "cell_type": "code",
   "execution_count": 6,
   "metadata": {},
   "outputs": [
    {
     "name": "stdout",
     "output_type": "stream",
     "text": [
      "+-------+-----------------+----------+--------------------+-------------------+-----------+--------------------+\n",
      "|summary|              _c0|Unnamed: 0|      h_vehicle_hash|    production_date|    country|    sales_code_array|\n",
      "+-------+-----------------+----------+--------------------+-------------------+-----------+--------------------+\n",
      "|  count|              500|       500|                 495|                497|        490|                 500|\n",
      "|   mean|            249.5|       0.0|                null|               null|       null|                null|\n",
      "| stddev|144.4818327679989|       0.0|                null|               null|       null|                null|\n",
      "|    min|                0|         0|00cb7b6fc44b7d6cd...|         05.06.1899|Afghanistan|Z5B, M1H, D2H, S5...|\n",
      "|    max|              499|         0|fff5e3b57e4637489...|9999-05-12 00:00:00|      Yemen|Z5L, M3M, Z8P, R5...|\n",
      "+-------+-----------------+----------+--------------------+-------------------+-----------+--------------------+\n",
      "\n",
      "+-------+-----------------+----------+--------------------+------------------+-------------+--------------------+\n",
      "|summary|              _c0|Unnamed: 0|      h_vehicle_hash|               fin|record_source|             load_ts|\n",
      "+-------+-----------------+----------+--------------------+------------------+-------------+--------------------+\n",
      "|  count|              500|       500|                 500|               500|          500|                 500|\n",
      "|   mean|            249.5|       0.0|                null|4.2328400461785E13|         null|                null|\n",
      "| stddev|144.4818327679989|       0.0|                null|              null|         null|                null|\n",
      "|    min|                0|         0|00cb7b6fc44b7d6cd...|    42328400461785|        vedoc|2021-11-26 12:22:...|\n",
      "|    max|              499|         0|fff5e3b57e4637489...| WEB97660119146295|        vedoc|2021-11-26 12:22:...|\n",
      "+-------+-----------------+----------+--------------------+------------------+-------------+--------------------+\n",
      "\n"
     ]
    }
   ],
   "source": [
    "# Overview of Dataframes before cleaning\n",
    "sales_codes_df.describe().show()\n",
    "vehicle_hash_df.describe().show()"
   ]
  },
  {
   "cell_type": "markdown",
   "metadata": {},
   "source": [
    "#### Notes\n",
    "* Presence of NULL/undefined values in sales code dataframe, no null found in vehicle_hash_df and engines_df\n",
    "* faulty dates in \"production_dates\" column in sales_code_df , \"fin\" in vehicle_hash_df"
   ]
  },
  {
   "cell_type": "code",
   "execution_count": 7,
   "metadata": {},
   "outputs": [
    {
     "name": "stdout",
     "output_type": "stream",
     "text": [
      "+---+----------+--------------------+----------------+-------------+--------------------+\n",
      "|_c0|Unnamed: 0|      h_vehicle_hash|             fin|record_source|             load_ts|\n",
      "+---+----------+--------------------+----------------+-------------+--------------------+\n",
      "| 86|         0|b820055eeacc6767f...|NMB7057091351743|        vedoc|2021-11-26 12:22:...|\n",
      "|115|         0|b23b13902d1cd36b3...|         NM97254|        vedoc|2021-11-26 12:22:...|\n",
      "|144|         0|d7dc551dbd7311612...|               W|        vedoc|2021-11-26 12:22:...|\n",
      "|166|         0|920605e523c7c51a6...|  42328400461785|        vedoc|2021-11-26 12:22:...|\n",
      "|457|         0|9196d2b34cdc15cb8...|MB60225250190773|        vedoc|2021-11-26 12:22:...|\n",
      "|494|         0|638b2c1128f0ac139...|           WEB46|        vedoc|2021-11-26 12:22:...|\n",
      "+---+----------+--------------------+----------------+-------------+--------------------+\n",
      "\n"
     ]
    }
   ],
   "source": [
    "# looking for entries which don't follow the vehicle ID format. RegEx:^[A-Z](\\d|\\w)[A-Z]\\d{14}\n",
    "vehicle_hash_df.where(~vehicle_hash_df[\"fin\"].rlike(\"^[A-Z](\\d|\\w)[A-Z]\\d{14}\")).show()"
   ]
  },
  {
   "cell_type": "code",
   "execution_count": 8,
   "metadata": {},
   "outputs": [
    {
     "name": "stdout",
     "output_type": "stream",
     "text": [
      "+---------------------+-----+\n",
      "|year(production_date)|count|\n",
      "+---------------------+-----+\n",
      "|                 2018|   44|\n",
      "|                 2015|   48|\n",
      "|                 2013|   47|\n",
      "|                 null|    6|\n",
      "|                 2014|   44|\n",
      "|                 2019|   37|\n",
      "|                 1910|    1|\n",
      "|                 2020|   30|\n",
      "|                 2012|   56|\n",
      "|                 2055|    1|\n",
      "|                 2016|   47|\n",
      "|                 9999|    1|\n",
      "|                 9080|    1|\n",
      "|                 2011|   66|\n",
      "|                 2017|   52|\n",
      "|                 2021|   19|\n",
      "+---------------------+-----+\n",
      "\n"
     ]
    }
   ],
   "source": [
    "# Looking for Corrupt data in the production_date column in Sales codes dataframe\n",
    "sales_codes_df.groupBy(year(sales_codes_df[\"production_date\"])).count().show()"
   ]
  },
  {
   "cell_type": "code",
   "execution_count": 9,
   "metadata": {},
   "outputs": [
    {
     "name": "stdout",
     "output_type": "stream",
     "text": [
      "+---+----------+--------------------+-------------------+--------------------+--------------------+\n",
      "|_c0|Unnamed: 0|      h_vehicle_hash|    production_date|             country|    sales_code_array|\n",
      "+---+----------+--------------------+-------------------+--------------------+--------------------+\n",
      "| 26|         0|2cabda59cb5d6444a...|2013-08-10 00:00:00|                null|Z5F, M3V, M0S, U8...|\n",
      "| 69|         0|4a9d1bfa9442b27ee...|2012-01-31 00:00:00|                null|Z5L, M3L, S5E, X3...|\n",
      "| 88|         0|2b094a712b6bc8a45...|2014-01-25 00:00:00|                null|Z5L, M3L, Y4S, C0...|\n",
      "|110|         0|cdf6699b58773197d...|2011-09-21 00:00:00|                null|Z5F, M3N, X1L, I5...|\n",
      "|163|         0|                null|2019-11-30 00:00:00|         Philippines|Z5D, M2N, A2Z, X4...|\n",
      "|175|         0|eee060a19ccfce166...|2018-02-18 00:00:00|                null|Z5E, M3D, Z2R, N2...|\n",
      "|220|         0|f711fe5257cfd2c90...|2016-11-18 00:00:00|                null|Z5C, M2C, Q9Y, Z0...|\n",
      "|224|         0|                null|2018-04-12 00:00:00|Kaimcratic Iepubl...|Z5E, M3C, D1W, Q7...|\n",
      "|276|         0|1adc367d32dec427e...|2018-10-20 00:00:00|                null|Z5E, M3D, Z4K, F5...|\n",
      "|299|         0|                null|2013-12-26 00:00:00|             Germany|Z5L, M3K, Q0B, F9...|\n",
      "|346|         0|b18a57cacaf5e9bb1...|2018-05-10 00:00:00|                null|Z5E, M3B, R2U, W3...|\n",
      "|367|         0|                null|2013-02-12 00:00:00|         Puerto Rico|Z5E, M3C, A2E, N5...|\n",
      "|398|         0|5f820c6764b9e0e38...|2011-07-15 00:00:00|                null|Z5D, M2P, K5D, N9...|\n",
      "|414|         0|83d9882ae27f41f63...|               null|              Syrien|Z5E, M3C, D4X, E3...|\n",
      "|415|         0|447e6f4ade92303e0...|               null|             Tunisia|Z5L, M3K, R5N, C7...|\n",
      "|416|         0|61f4de5cb6d4f2619...|               null|    French Polynesia|Z5B, M1J, C1W, F7...|\n",
      "|435|         0|                null|2018-04-06 00:00:00|                Togo|Z5F, M3V, C5N, C2...|\n",
      "|441|         0|1d6e10d6c2d72bd52...|2014-04-18 00:00:00|                null|Z5B, M1I, E4Y, Q7...|\n",
      "+---+----------+--------------------+-------------------+--------------------+--------------------+\n",
      "\n"
     ]
    }
   ],
   "source": [
    "# Looking for NULL values in the sales codes dataframe\n",
    "sales_codes_df.where(sales_codes_df[\"production_date\"].isNull()\\\n",
    "                    | sales_codes_df[\"country\"].isNull()\\\n",
    "                    | sales_codes_df[\"h_vehicle_hash\"].isNull()\\\n",
    "                    | sales_codes_df[\"sales_code_array\"].isNull()).show()"
   ]
  },
  {
   "cell_type": "code",
   "execution_count": 10,
   "metadata": {},
   "outputs": [
    {
     "name": "stdout",
     "output_type": "stream",
     "text": [
      "+---+----------+--------------------+-------------------+---------+--------------------+\n",
      "|_c0|Unnamed: 0|      h_vehicle_hash|    production_date|  country|    sales_code_array|\n",
      "+---+----------+--------------------+-------------------+---------+--------------------+\n",
      "|397|         0|2896855941ad1b044...|2011-05-25 00:00:00|GIBRALTAR|Z5L, M3J, C4B, D3...|\n",
      "|402|         0|c0dc21ff18421f39b...|2012-07-10 00:00:00|GIBRALTAR|Z5F, M3N, T1D, Q3...|\n",
      "|406|         0|19245e9fc3b29d054...|2018-12-13 00:00:00|GIBRALTAR|Z5D, M2S, K4E, K1...|\n",
      "+---+----------+--------------------+-------------------+---------+--------------------+\n",
      "\n"
     ]
    }
   ],
   "source": [
    "# Looking for country names that don't follow the formatting\n",
    "# First letter Capital followed by small characters, RegEx: ^[A-Z][a-z].{0,50}\n",
    "# check\n",
    "sales_codes_df.filter(~sales_codes_df[\"country\"].rlike(\"^[A-Z][a-z].{0,50}\")).show()"
   ]
  },
  {
   "cell_type": "markdown",
   "metadata": {},
   "source": [
    "#### Observation Notes:\n",
    "\n",
    "* Presence of un-necessary columns which should be removed.\n",
    "  \n",
    "* Vehicle ID \"fin\" is a unique ID comprised of capital alphabets and numerals and follows a specific format. Those entries have to be removed which don't correspond to the ID format.\n",
    "\n",
    "* Data types of some columns has to be rectified e.g. \"production_date\" should be DATE type. \n",
    "\n",
    "* Production Dates of some vehicles have corrupt values e.g. 9999/01/01.\n",
    "\n",
    "* Format of country name should be a capital letter followed by small alphabets.\n",
    "\n",
    "* \"Sales_code_array\" is just a string whereas it should be an array with string element type. \n",
    "\n",
    "* Furthermore, it should be taken into consideration that a vehicle/truck is driven by ONE engine only. If the composition of truck(Sales_code_array) is comprised of two or more engines then that particular entry has to removed.\n",
    "\n",
    "* Rows with NULL/undefined values has to be removed."
   ]
  },
  {
   "cell_type": "markdown",
   "metadata": {},
   "source": [
    "##  2- Data Cleaning and Data Preparation \n",
    "\n",
    "### Data has to be cleaned and processed  \n",
    "*************************************************************************************************************************"
   ]
  },
  {
   "cell_type": "code",
   "execution_count": 11,
   "metadata": {},
   "outputs": [],
   "source": [
    "# Removing the additional columns \n",
    "sales_codes_df=sales_codes_df.drop(\"_c0\",\"Unnamed: 0\")\n",
    "vehicle_hash_df=vehicle_hash_df.drop(\"_c0\",\"Unnamed: 0\")\n",
    "engines_df=engines_df.drop(\"_c0\")\n"
   ]
  },
  {
   "cell_type": "code",
   "execution_count": 12,
   "metadata": {},
   "outputs": [
    {
     "name": "stdout",
     "output_type": "stream",
     "text": [
      "+--------------------+-------------------+-------+--------------------+\n",
      "|      h_vehicle_hash|    production_date|country|    sales_code_array|\n",
      "+--------------------+-------------------+-------+--------------------+\n",
      "|924d229bede272c5a...|2013-02-05 00:00:00|Namibia|Z5E, M3E, A4S, Y1...|\n",
      "|3787a8db036dabd74...|2012-08-27 00:00:00|Germany|Z5D, M2N, K1X, Q2...|\n",
      "|aea31cdf4f575acf1...|2015-08-11 00:00:00|Germany|Z5C, M2A, A5H, P7...|\n",
      "+--------------------+-------------------+-------+--------------------+\n",
      "only showing top 3 rows\n",
      "\n",
      "+--------------------+-----------------+-------------+--------------------+\n",
      "|      h_vehicle_hash|              fin|record_source|             load_ts|\n",
      "+--------------------+-----------------+-------------+--------------------+\n",
      "|924d229bede272c5a...|WEB14561113188001|        vedoc|2021-11-26 12:22:...|\n",
      "|3787a8db036dabd74...|W1T61600516560507|        vedoc|2021-11-26 12:22:...|\n",
      "|aea31cdf4f575acf1...|WEB74212637167838|        vedoc|2021-11-26 12:22:...|\n",
      "+--------------------+-----------------+-------------+--------------------+\n",
      "only showing top 3 rows\n",
      "\n",
      "+-------------+--------------------+-------------------+-------------+----------+-------------------+-------------------+\n",
      "|Code Group Id| Code Group Name En |Code Group Name De |  Folder Name|Sales Code|Code Description En|Code Description De|\n",
      "+-------------+--------------------+-------------------+-------------+----------+-------------------+-------------------+\n",
      "|          131|powertrain engine...|     motor baureihe|06 Powertrain|       M0I|             OM 924|             OM 924|\n",
      "|          131|powertrain engine...|     motor baureihe|06 Powertrain|       M0J|             OM 926|             OM 926|\n",
      "|          131|powertrain engine...|     motor baureihe|06 Powertrain|       Z5A|             M 936G|             M 936G|\n",
      "+-------------+--------------------+-------------------+-------------+----------+-------------------+-------------------+\n",
      "only showing top 3 rows\n",
      "\n"
     ]
    }
   ],
   "source": [
    "# test and check for updated cols\n",
    "sales_codes_df.show(3)\n",
    "vehicle_hash_df.show(3)\n",
    "engines_df.show(3)"
   ]
  },
  {
   "cell_type": "markdown",
   "metadata": {},
   "source": [
    "#### Note:\n",
    "Irrelevant columns removed."
   ]
  },
  {
   "cell_type": "code",
   "execution_count": 13,
   "metadata": {},
   "outputs": [
    {
     "name": "stdout",
     "output_type": "stream",
     "text": [
      "root\n",
      " |-- h_vehicle_hash: string (nullable = true)\n",
      " |-- fin: string (nullable = true)\n",
      " |-- record_source: string (nullable = true)\n",
      " |-- load_ts: string (nullable = true)\n",
      "\n",
      "+--------------------+-----------------+-------------+--------------------+\n",
      "|      h_vehicle_hash|              fin|record_source|             load_ts|\n",
      "+--------------------+-----------------+-------------+--------------------+\n",
      "|924d229bede272c5a...|WEB14561113188001|        vedoc|2021-11-26 12:22:...|\n",
      "|3787a8db036dabd74...|W1T61600516560507|        vedoc|2021-11-26 12:22:...|\n",
      "|aea31cdf4f575acf1...|WEB74212637167838|        vedoc|2021-11-26 12:22:...|\n",
      "+--------------------+-----------------+-------------+--------------------+\n",
      "only showing top 3 rows\n",
      "\n"
     ]
    },
    {
     "data": {
      "text/plain": [
       "494"
      ]
     },
     "execution_count": 13,
     "metadata": {},
     "output_type": "execute_result"
    }
   ],
   "source": [
    "# Cleaning the Entries in vehicle ID \"fin\" column\n",
    "# Using Regular Expression to clean data in the vehicle ID \"fin\" column\n",
    "# vehicle id has a specific pattern which can be encoded as regular expression/RegEx\n",
    "# RegEXP has the following sequence: Character,Digit/Character,Character,followed by 14 digits\n",
    "vehicle_hash_df=vehicle_hash_df.filter(vehicle_hash_df[\"fin\"].rlike(\"^[A-Z](\\d|\\w)[A-Z]\\d{14}\"))\n",
    "vehicle_hash_df.printSchema()\n",
    "vehicle_hash_df.show(3)\n",
    "vehicle_hash_df.count()"
   ]
  },
  {
   "cell_type": "markdown",
   "metadata": {},
   "source": [
    "#### Note:\n",
    "corrupt vehicle ID's \"fin\" have been removed"
   ]
  },
  {
   "cell_type": "code",
   "execution_count": 14,
   "metadata": {},
   "outputs": [
    {
     "name": "stdout",
     "output_type": "stream",
     "text": [
      "+--------------------+---------------+---------+--------------------+\n",
      "|      h_vehicle_hash|production_date|  country|    sales_code_array|\n",
      "+--------------------+---------------+---------+--------------------+\n",
      "|924d229bede272c5a...|     2013-02-05|  Namibia|Z5E, M3E, A4S, Y1...|\n",
      "|3787a8db036dabd74...|     2012-08-27|  Germany|Z5D, M2N, K1X, Q2...|\n",
      "|aea31cdf4f575acf1...|     2015-08-11|  Germany|Z5C, M2A, A5H, P7...|\n",
      "|d92ed338496281e08...|     2015-02-22|Lithuania|Z5F, M3P, D3H, C8...|\n",
      "|7934c4872515da4b1...|     2017-03-10|  Germany|Z5B, M1K, L1T, E6...|\n",
      "+--------------------+---------------+---------+--------------------+\n",
      "only showing top 5 rows\n",
      "\n",
      "+--------------------+-----------------+-------------+----------+\n",
      "|      h_vehicle_hash|              fin|record_source|   load_ts|\n",
      "+--------------------+-----------------+-------------+----------+\n",
      "|924d229bede272c5a...|WEB14561113188001|        vedoc|2021-11-26|\n",
      "|3787a8db036dabd74...|W1T61600516560507|        vedoc|2021-11-26|\n",
      "|aea31cdf4f575acf1...|WEB74212637167838|        vedoc|2021-11-26|\n",
      "|d92ed338496281e08...|WDB73045113294326|        vedoc|2021-11-26|\n",
      "|7934c4872515da4b1...|W1T38483757441350|        vedoc|2021-11-26|\n",
      "+--------------------+-----------------+-------------+----------+\n",
      "only showing top 5 rows\n",
      "\n",
      "root\n",
      " |-- h_vehicle_hash: string (nullable = true)\n",
      " |-- production_date: date (nullable = true)\n",
      " |-- country: string (nullable = true)\n",
      " |-- sales_code_array: string (nullable = true)\n",
      "\n",
      "root\n",
      " |-- h_vehicle_hash: string (nullable = true)\n",
      " |-- fin: string (nullable = true)\n",
      " |-- record_source: string (nullable = true)\n",
      " |-- load_ts: date (nullable = true)\n",
      "\n"
     ]
    }
   ],
   "source": [
    "# Correcting the datatypes of columns in sales_codes_df and vehicle_hash_df dataframes\n",
    "# Normalizing the data type in \"production_date\" column\n",
    "\n",
    "sales_codes_df=sales_codes_df.withColumn(\"production_date\",to_date(\"production_date\"))\n",
    "vehicle_hash_df=vehicle_hash_df.withColumn(\"load_ts\",to_date(\"load_ts\"))\n",
    "sales_codes_df.show(5)\n",
    "vehicle_hash_df.show(5)\n",
    "\n",
    "sales_codes_df.printSchema()\n",
    "vehicle_hash_df.printSchema()"
   ]
  },
  {
   "cell_type": "markdown",
   "metadata": {},
   "source": [
    "#### Note\n",
    "Datatypes of production_date and load_ts have been updated."
   ]
  },
  {
   "cell_type": "code",
   "execution_count": 15,
   "metadata": {},
   "outputs": [],
   "source": [
    "# Removing entries with false dates\n",
    "# data has values like 9999,2055,9080 as year of production\n",
    "sales_codes_df=sales_codes_df.filter((year(sales_codes_df.production_date)<=2021)\\\n",
    "                                           & (year(sales_codes_df.production_date)>=1998))"
   ]
  },
  {
   "cell_type": "code",
   "execution_count": 16,
   "metadata": {},
   "outputs": [
    {
     "name": "stdout",
     "output_type": "stream",
     "text": [
      "+---------------------+-----+\n",
      "|year(production_date)|count|\n",
      "+---------------------+-----+\n",
      "|                 2018|   44|\n",
      "|                 2015|   48|\n",
      "|                 2013|   47|\n",
      "|                 2014|   44|\n",
      "|                 2019|   37|\n",
      "|                 2020|   30|\n",
      "|                 2012|   56|\n",
      "|                 2016|   47|\n",
      "|                 2011|   66|\n",
      "|                 2017|   52|\n",
      "|                 2021|   19|\n",
      "+---------------------+-----+\n",
      "\n"
     ]
    }
   ],
   "source": [
    "# Test\n",
    "sales_codes_df.groupBy(year(sales_codes_df[\"production_date\"])).count().show()"
   ]
  },
  {
   "cell_type": "markdown",
   "metadata": {},
   "source": [
    "#### Note\n",
    "Corrupt dates in production_date have been removed and sales_code_df updated"
   ]
  },
  {
   "cell_type": "code",
   "execution_count": 17,
   "metadata": {},
   "outputs": [
    {
     "name": "stdout",
     "output_type": "stream",
     "text": [
      "+--------------------+---------------+---------+--------------------+\n",
      "|      h_vehicle_hash|production_date|  country|    sales_code_array|\n",
      "+--------------------+---------------+---------+--------------------+\n",
      "|2896855941ad1b044...|     2011-05-25|Gibraltar|Z5L, M3J, C4B, D3...|\n",
      "|c0dc21ff18421f39b...|     2012-07-10|Gibraltar|Z5F, M3N, T1D, Q3...|\n",
      "|19245e9fc3b29d054...|     2018-12-13|Gibraltar|Z5D, M2S, K4E, K1...|\n",
      "+--------------------+---------------+---------+--------------------+\n",
      "\n"
     ]
    }
   ],
   "source": [
    "# Applying the format for country names (first alphabet capital and rest are small aplhabets)\n",
    "sales_codes_df=sales_codes_df.withColumn(\"country\",initcap(sales_codes_df[\"country\"]))\n",
    "\n",
    "# Test and check updated dataframe\n",
    "sales_codes_df.where(sales_codes_df[\"country\"]==\"Gibraltar\").show()"
   ]
  },
  {
   "cell_type": "markdown",
   "metadata": {},
   "source": [
    "#### Note:\n",
    "Formatting applied to the country names in the \"country\" column in sales_codes_df"
   ]
  },
  {
   "cell_type": "code",
   "execution_count": 18,
   "metadata": {},
   "outputs": [
    {
     "name": "stdout",
     "output_type": "stream",
     "text": [
      "root\n",
      " |-- h_vehicle_hash: string (nullable = true)\n",
      " |-- production_date: date (nullable = true)\n",
      " |-- country: string (nullable = true)\n",
      " |-- sales_code_array: array (nullable = true)\n",
      " |    |-- element: string (containsNull = true)\n",
      "\n",
      "+--------------------+---------------+-------+--------------------+\n",
      "|      h_vehicle_hash|production_date|country|    sales_code_array|\n",
      "+--------------------+---------------+-------+--------------------+\n",
      "|924d229bede272c5a...|     2013-02-05|Namibia|[Z5E, M3E, A4S, Y...|\n",
      "|3787a8db036dabd74...|     2012-08-27|Germany|[Z5D, M2N, K1X, Q...|\n",
      "|aea31cdf4f575acf1...|     2015-08-11|Germany|[Z5C, M2A, A5H, P...|\n",
      "+--------------------+---------------+-------+--------------------+\n",
      "only showing top 3 rows\n",
      "\n"
     ]
    }
   ],
   "source": [
    "# Normalizing the Data type of \"sales_code_array\"\n",
    "sales_codes_df=sales_codes_df.withColumn(\"sales_code_array\",split(\"sales_code_array\",\", \"))\n",
    "\n",
    "# Test\n",
    "sales_codes_df.printSchema()\n",
    "sales_codes_df.show(3)\n"
   ]
  },
  {
   "cell_type": "markdown",
   "metadata": {},
   "source": [
    "#### Note:\n",
    "Normalized the data-type of \"sales_code_array\" : an array with string elements "
   ]
  },
  {
   "cell_type": "code",
   "execution_count": 19,
   "metadata": {},
   "outputs": [
    {
     "name": "stdout",
     "output_type": "stream",
     "text": [
      "+--------------------+---------------+-------+--------------------+------------+\n",
      "|      h_vehicle_hash|production_date|country|    sales_code_array|vehicle_comp|\n",
      "+--------------------+---------------+-------+--------------------+------------+\n",
      "|924d229bede272c5a...|     2013-02-05|Namibia|[Z5E, M3E, A4S, Y...|         Z5E|\n",
      "|924d229bede272c5a...|     2013-02-05|Namibia|[Z5E, M3E, A4S, Y...|         M3E|\n",
      "|924d229bede272c5a...|     2013-02-05|Namibia|[Z5E, M3E, A4S, Y...|         A4S|\n",
      "|924d229bede272c5a...|     2013-02-05|Namibia|[Z5E, M3E, A4S, Y...|         Y1R|\n",
      "|924d229bede272c5a...|     2013-02-05|Namibia|[Z5E, M3E, A4S, Y...|         F5E|\n",
      "|924d229bede272c5a...|     2013-02-05|Namibia|[Z5E, M3E, A4S, Y...|         J3Y|\n",
      "|924d229bede272c5a...|     2013-02-05|Namibia|[Z5E, M3E, A4S, Y...|         X4M|\n",
      "|924d229bede272c5a...|     2013-02-05|Namibia|[Z5E, M3E, A4S, Y...|         J1Z|\n",
      "|924d229bede272c5a...|     2013-02-05|Namibia|[Z5E, M3E, A4S, Y...|         M5X|\n",
      "|924d229bede272c5a...|     2013-02-05|Namibia|[Z5E, M3E, A4S, Y...|         V8O|\n",
      "|924d229bede272c5a...|     2013-02-05|Namibia|[Z5E, M3E, A4S, Y...|         M6O|\n",
      "|924d229bede272c5a...|     2013-02-05|Namibia|[Z5E, M3E, A4S, Y...|         M8Q|\n",
      "|924d229bede272c5a...|     2013-02-05|Namibia|[Z5E, M3E, A4S, Y...|         C0E|\n",
      "|924d229bede272c5a...|     2013-02-05|Namibia|[Z5E, M3E, A4S, Y...|         D2C|\n",
      "|924d229bede272c5a...|     2013-02-05|Namibia|[Z5E, M3E, A4S, Y...|         B1A|\n",
      "|924d229bede272c5a...|     2013-02-05|Namibia|[Z5E, M3E, A4S, Y...|         M5N|\n",
      "|924d229bede272c5a...|     2013-02-05|Namibia|[Z5E, M3E, A4S, Y...|         P1C|\n",
      "|924d229bede272c5a...|     2013-02-05|Namibia|[Z5E, M3E, A4S, Y...|         C9Q|\n",
      "|924d229bede272c5a...|     2013-02-05|Namibia|[Z5E, M3E, A4S, Y...|         U2T|\n",
      "|924d229bede272c5a...|     2013-02-05|Namibia|[Z5E, M3E, A4S, Y...|         P6H|\n",
      "+--------------------+---------------+-------+--------------------+------------+\n",
      "only showing top 20 rows\n",
      "\n"
     ]
    }
   ],
   "source": [
    "# check if sales_code_array has sales code of multiple engines,\n",
    "# we use engine_df here to join the two dataframes based on \"sales code\" as the key\n",
    "# Exploding the sales code array to see all the sales codes against a single vehicle ID\n",
    "sales_codes_df=sales_codes_df.withColumn(\"vehicle_comp\",explode(sales_codes_df.sales_code_array))\n",
    "sales_codes_df.show()\n"
   ]
  },
  {
   "cell_type": "code",
   "execution_count": 20,
   "metadata": {},
   "outputs": [
    {
     "data": {
      "text/plain": [
       "['h_vehicle_hash',\n",
       " 'production_date',\n",
       " 'country',\n",
       " 'sales_code_array',\n",
       " 'vehicle_comp',\n",
       " 'Code Group Id',\n",
       " 'Code Group Name En ',\n",
       " 'Code Group Name De ',\n",
       " 'Folder Name',\n",
       " 'Sales Code',\n",
       " 'Code Description En',\n",
       " 'Code Description De']"
      ]
     },
     "execution_count": 20,
     "metadata": {},
     "output_type": "execute_result"
    }
   ],
   "source": [
    "sales_codes_df=sales_codes_df.join(engines_df,sales_codes_df[\"vehicle_comp\"]==engines_df[\"Sales Code\"],\"inner\")\n",
    "sales_codes_df.columns"
   ]
  },
  {
   "cell_type": "code",
   "execution_count": 21,
   "metadata": {},
   "outputs": [],
   "source": [
    "# for a better description\n",
    "sales_codes_df=sales_codes_df.select(\"h_vehicle_hash\",\"production_date\",\"country\",\"sales_code_array\",\\\n",
    "                      \"vehicle_comp\",\"Sales Code\",\"Code Description En\")\n"
   ]
  },
  {
   "cell_type": "code",
   "execution_count": 22,
   "metadata": {},
   "outputs": [
    {
     "name": "stdout",
     "output_type": "stream",
     "text": [
      "+--------------------+---------------+--------------------+--------------------+-----------------+--------------+\n",
      "|      h_vehicle_hash|production_date|             country|    sales_code_array|Engine Sales Code|  Engines used|\n",
      "+--------------------+---------------+--------------------+--------------------+-----------------+--------------+\n",
      "|33f4215da96af4dfb...|     2017-12-21|   Serbia Montenegro|[Z5L, M3M, H8U, P...|              Z5L|        OM 460|\n",
      "|43aba6dfaa7f21b40...|     2015-09-07|              Azores|[Z5E, M3E, E1N, P...|         Z5A, Z5E|M 936G, OM 471|\n",
      "|5652bc231dd43ca6a...|     2021-04-21|             Germany|[Z5C, M2E, N7W, E...|              Z5C|        OM 936|\n",
      "|fc036bd4d5409fc9f...|     2019-09-08|             Germany|[Z5B, M1I, R5N, Q...|              Z5B|        OM 934|\n",
      "|00cb7b6fc44b7d6cd...|     2013-08-04|               Qatar|[Z5C, M2C, O5T, Y...|              Z5C|        OM 936|\n",
      "|251c5da8b2c0a9dd0...|     2012-11-02|             Germany|[Z5D, M2R, W3Z, Z...|              Z5D|        OM 470|\n",
      "|75182f7a6a01463f1...|     2018-04-18|              Jordan|[Z5F, M3V, R4P, V...|              Z5F|        OM 473|\n",
      "|9197101097ac8a84f...|     2011-11-10|              Bhutan|[Z5F, M3N, C5J, A...|              Z5F|        OM 473|\n",
      "|22825d08d3218cb0a...|     2021-04-25|                Iran|[Z5B, M1H, D2H, S...|              Z5B|        OM 934|\n",
      "|bb752945a202795c0...|     2017-01-11|              Turkey|[Z5L, M3H, A2P, Q...|              Z5L|        OM 460|\n",
      "|2f7b85e81ac6bb58a...|     2015-05-30| Republic Of Moldova|[Z5L, M3M, Q4N, P...|              Z5L|        OM 460|\n",
      "|                null|     2018-04-12|Kaimcratic Iepubl...|[Z5E, M3C, D1W, Q...|              Z5E|        OM 471|\n",
      "|0e31bc34927355d9e...|     2014-01-13|           Swasiland|[Z5F, M3V, T2C, C...|              Z5F|        OM 473|\n",
      "|b4df1b4faf85138f4...|     2015-09-11|               Qatar|[Z5E, M3B, W7M, R...|              Z5E|        OM 471|\n",
      "|6cb2a05fa5378a1ff...|     2014-04-05|             Germany|[Z5L, M3M, W2D, W...|         Z5L, M0I|OM 460, OM 924|\n",
      "|d1e1a6c8542d60fc5...|     2011-09-22|             Germany|[Z5C, M2A, C0S, M...|              Z5C|        OM 936|\n",
      "|5e001b6fd94922709...|     2011-02-15|            Thailand|[Z5D, M2N, N2I, F...|              Z5D|        OM 470|\n",
      "|cf34d779d642e7f15...|     2012-06-11|             Grenada|[Z5B, M1I, A2N, E...|              Z5B|        OM 934|\n",
      "|ed1d59777b523b4ec...|     2018-01-29|              Libyen|[Z5D, M2R, C6G, D...|              Z5D|        OM 470|\n",
      "|17ec7629d7e683226...|     2016-04-28|             Germany|[Z5F, M3V, W7T, V...|              Z5F|        OM 473|\n",
      "+--------------------+---------------+--------------------+--------------------+-----------------+--------------+\n",
      "only showing top 20 rows\n",
      "\n"
     ]
    }
   ],
   "source": [
    "sales_codes_df=sales_codes_df.groupBy(\"h_vehicle_hash\",\"production_date\",\"country\",\"sales_code_array\")\\\n",
    ".agg(concat_ws(', ',collect_set(\"Sales Code\")).alias(\"Engine Sales Code\")\\\n",
    "     ,concat_ws(', ',collect_set(\"Code Description En\")).alias(\"Engines used\"))\n",
    "sales_codes_df.show()"
   ]
  },
  {
   "cell_type": "code",
   "execution_count": 23,
   "metadata": {},
   "outputs": [
    {
     "name": "stdout",
     "output_type": "stream",
     "text": [
      "+--------------------+---------------+--------------------+--------------------+-----------------+--------------------+\n",
      "|      h_vehicle_hash|production_date|             country|    sales_code_array|Engine Sales Code|        Engines used|\n",
      "+--------------------+---------------+--------------------+--------------------+-----------------+--------------------+\n",
      "|43aba6dfaa7f21b40...|     2015-09-07|              Azores|[Z5E, M3E, E1N, P...|         Z5A, Z5E|      M 936G, OM 471|\n",
      "|6cb2a05fa5378a1ff...|     2014-04-05|             Germany|[Z5L, M3M, W2D, W...|         Z5L, M0I|      OM 460, OM 924|\n",
      "|be9c0425cd927d63e...|     2011-03-06|            Simbabwe|[Z5F, M3N, A2F, V...|         M0I, Z5F|      OM 473, OM 924|\n",
      "|708cac2bd86d57ed7...|     2018-08-30|             Germany|[Z5L, M3J, F7Q, L...|         Z5A, Z5L|      M 936G, OM 460|\n",
      "|224a4779c9f5af1c2...|     2011-08-10|             Germany|[Z5C, M2D, Z7Y, R...|         Z5A, Z5C|      M 936G, OM 936|\n",
      "|37aedebe2b71b332b...|     2013-02-26|        Soviet Union|[Z5E, M3E, C5C, C...|         Z5E, M0I|      OM 471, OM 924|\n",
      "|                null|     2013-12-26|             Germany|[Z5L, M3K, Q0B, F...|         Z5L, M0I|      OM 460, OM 924|\n",
      "|2c57d4e7d0dd43fd2...|     2017-09-10|            Tansania|[Z5L, M3I, F7E, O...|         Z5L, M0I|      OM 460, OM 924|\n",
      "|432dcc321c6a65291...|     2014-02-28|          Kambodscha|[Z5C, M2A, P8A, F...|         Z5C, M0I|      OM 936, OM 924|\n",
      "|e780cb66364972742...|     2012-10-28|            Paraguay|[Z5F, M3V, V5A, O...|         Z5A, Z5F|      M 936G, OM 473|\n",
      "|65e5a534e85aea86b...|     2018-08-16|              Turkey|[Z5B, M1H, Z4I, B...|         M0I, Z5B|      OM 934, OM 924|\n",
      "|e5ab613e09f45c8bd...|     2017-12-10|United Arab Emirates|[Z5L, M3L, Q7W, Q...|    Z5A, Z5L, M0J|M 936G, OM 460, O...|\n",
      "|38488e286dd3e9422...|     2015-07-20|                Iran|[Z5C, M2E, M0I, C...|    Z5C, M0I, M0J|OM 936, OM 924, O...|\n",
      "|8ea266ca19507a4f5...|     2013-04-19|             Mayotte|[Z5B, M1H, M0S, O...|         Z5A, Z5B|      M 936G, OM 934|\n",
      "|0582ecc63cbe93460...|     2013-09-02|            Barbados|[Z5E, M3B, K2M, C...|         Z5A, Z5E|      M 936G, OM 471|\n",
      "|a0cd1cd0a63aa8680...|     2012-05-23|             Germany|[Z5E, M3C, M8D, S...|         Z5A, Z5E|      M 936G, OM 471|\n",
      "|7bb2ddb1b33492c54...|     2012-10-21|The Former Yugosl...|[Z5L, M3L, C0J, Q...|         Z5A, Z5L|      M 936G, OM 460|\n",
      "|67a7de8e65181e349...|     2016-04-23|            Mongolia|[Z5C, M2A, Q1S, W...|         Z5A, Z5C|      M 936G, OM 936|\n",
      "|d4743dc3ae55817f6...|     2014-02-12|Netherlands Antil...|[Z5F, M3P, I4B, N...|         Z5F, M0J|      OM 473, OM 926|\n",
      "|87fb1b6700b38f831...|     2011-06-14|      Oceania / Guam|[Z5F, M3N, R2L, R...|         M0I, Z5F|      OM 473, OM 924|\n",
      "+--------------------+---------------+--------------------+--------------------+-----------------+--------------------+\n",
      "only showing top 20 rows\n",
      "\n"
     ]
    }
   ],
   "source": [
    "# It can be observed that there are vehicles with More than ONE engine which seems unlikely to happen\n",
    "# Hence we remove those entries with more than one engines\n",
    "sales_codes_df.where(length(sales_codes_df[\"Engine Sales Code\"])>3).show()"
   ]
  },
  {
   "cell_type": "code",
   "execution_count": 24,
   "metadata": {},
   "outputs": [
    {
     "name": "stdout",
     "output_type": "stream",
     "text": [
      "+--------------------+---------------+--------------------+--------------------+-----------------+------------+\n",
      "|      h_vehicle_hash|production_date|             country|    sales_code_array|Engine Sales Code|Engines used|\n",
      "+--------------------+---------------+--------------------+--------------------+-----------------+------------+\n",
      "|33f4215da96af4dfb...|     2017-12-21|   Serbia Montenegro|[Z5L, M3M, H8U, P...|              Z5L|      OM 460|\n",
      "|5652bc231dd43ca6a...|     2021-04-21|             Germany|[Z5C, M2E, N7W, E...|              Z5C|      OM 936|\n",
      "|fc036bd4d5409fc9f...|     2019-09-08|             Germany|[Z5B, M1I, R5N, Q...|              Z5B|      OM 934|\n",
      "|00cb7b6fc44b7d6cd...|     2013-08-04|               Qatar|[Z5C, M2C, O5T, Y...|              Z5C|      OM 936|\n",
      "|251c5da8b2c0a9dd0...|     2012-11-02|             Germany|[Z5D, M2R, W3Z, Z...|              Z5D|      OM 470|\n",
      "|75182f7a6a01463f1...|     2018-04-18|              Jordan|[Z5F, M3V, R4P, V...|              Z5F|      OM 473|\n",
      "|9197101097ac8a84f...|     2011-11-10|              Bhutan|[Z5F, M3N, C5J, A...|              Z5F|      OM 473|\n",
      "|22825d08d3218cb0a...|     2021-04-25|                Iran|[Z5B, M1H, D2H, S...|              Z5B|      OM 934|\n",
      "|bb752945a202795c0...|     2017-01-11|              Turkey|[Z5L, M3H, A2P, Q...|              Z5L|      OM 460|\n",
      "|2f7b85e81ac6bb58a...|     2015-05-30| Republic Of Moldova|[Z5L, M3M, Q4N, P...|              Z5L|      OM 460|\n",
      "|                null|     2018-04-12|Kaimcratic Iepubl...|[Z5E, M3C, D1W, Q...|              Z5E|      OM 471|\n",
      "|0e31bc34927355d9e...|     2014-01-13|           Swasiland|[Z5F, M3V, T2C, C...|              Z5F|      OM 473|\n",
      "|b4df1b4faf85138f4...|     2015-09-11|               Qatar|[Z5E, M3B, W7M, R...|              Z5E|      OM 471|\n",
      "|d1e1a6c8542d60fc5...|     2011-09-22|             Germany|[Z5C, M2A, C0S, M...|              Z5C|      OM 936|\n",
      "|5e001b6fd94922709...|     2011-02-15|            Thailand|[Z5D, M2N, N2I, F...|              Z5D|      OM 470|\n",
      "|cf34d779d642e7f15...|     2012-06-11|             Grenada|[Z5B, M1I, A2N, E...|              Z5B|      OM 934|\n",
      "|ed1d59777b523b4ec...|     2018-01-29|              Libyen|[Z5D, M2R, C6G, D...|              Z5D|      OM 470|\n",
      "|17ec7629d7e683226...|     2016-04-28|             Germany|[Z5F, M3V, W7T, V...|              Z5F|      OM 473|\n",
      "|89ee17d9123243920...|     2017-03-22|      Oceania / Guam|[Z5C, M2E, O1H, W...|              Z5C|      OM 936|\n",
      "|74c6c63e819d42409...|     2011-08-30|       French Guiana|[Z5B, M1J, R8E, K...|              Z5B|      OM 934|\n",
      "+--------------------+---------------+--------------------+--------------------+-----------------+------------+\n",
      "only showing top 20 rows\n",
      "\n"
     ]
    },
    {
     "data": {
      "text/plain": [
       "417"
      ]
     },
     "execution_count": 24,
     "metadata": {},
     "output_type": "execute_result"
    }
   ],
   "source": [
    "### Removing those entries which have sales_code_array corresponding to multiple engines in one Vehicle\n",
    "sales_codes_df=sales_codes_df.where(length(sales_codes_df[\"Engine Sales Code\"])<=3)\n",
    "\n",
    "# test\n",
    "sales_codes_df.show()\n",
    "sales_codes_df.count()"
   ]
  },
  {
   "cell_type": "markdown",
   "metadata": {},
   "source": [
    "#### Note:\n",
    "Entries which shows multiple engines against one vehicle have been removed and sales_codes_df updated accordingly."
   ]
  },
  {
   "cell_type": "code",
   "execution_count": 25,
   "metadata": {},
   "outputs": [
    {
     "name": "stdout",
     "output_type": "stream",
     "text": [
      "root\n",
      " |-- h_vehicle_hash: string (nullable = true)\n",
      " |-- production_date: date (nullable = true)\n",
      " |-- country: string (nullable = true)\n",
      " |-- sales_code_array: array (nullable = true)\n",
      " |    |-- element: string (containsNull = true)\n",
      " |-- Engine Sales Code: string (nullable = false)\n",
      " |-- Engines used: string (nullable = false)\n",
      "\n",
      "+--------------------+---------------+-------------------+--------------------+-----------------+------------+\n",
      "|      h_vehicle_hash|production_date|            country|    sales_code_array|Engine Sales Code|Engines used|\n",
      "+--------------------+---------------+-------------------+--------------------+-----------------+------------+\n",
      "|33f4215da96af4dfb...|     2017-12-21|  Serbia Montenegro|[Z5L, M3M, H8U, P...|              Z5L|      OM 460|\n",
      "|5652bc231dd43ca6a...|     2021-04-21|            Germany|[Z5C, M2E, N7W, E...|              Z5C|      OM 936|\n",
      "|fc036bd4d5409fc9f...|     2019-09-08|            Germany|[Z5B, M1I, R5N, Q...|              Z5B|      OM 934|\n",
      "|00cb7b6fc44b7d6cd...|     2013-08-04|              Qatar|[Z5C, M2C, O5T, Y...|              Z5C|      OM 936|\n",
      "|251c5da8b2c0a9dd0...|     2012-11-02|            Germany|[Z5D, M2R, W3Z, Z...|              Z5D|      OM 470|\n",
      "|75182f7a6a01463f1...|     2018-04-18|             Jordan|[Z5F, M3V, R4P, V...|              Z5F|      OM 473|\n",
      "|9197101097ac8a84f...|     2011-11-10|             Bhutan|[Z5F, M3N, C5J, A...|              Z5F|      OM 473|\n",
      "|22825d08d3218cb0a...|     2021-04-25|               Iran|[Z5B, M1H, D2H, S...|              Z5B|      OM 934|\n",
      "|bb752945a202795c0...|     2017-01-11|             Turkey|[Z5L, M3H, A2P, Q...|              Z5L|      OM 460|\n",
      "|2f7b85e81ac6bb58a...|     2015-05-30|Republic Of Moldova|[Z5L, M3M, Q4N, P...|              Z5L|      OM 460|\n",
      "+--------------------+---------------+-------------------+--------------------+-----------------+------------+\n",
      "only showing top 10 rows\n",
      "\n"
     ]
    },
    {
     "data": {
      "text/plain": [
       "404"
      ]
     },
     "execution_count": 25,
     "metadata": {},
     "output_type": "execute_result"
    }
   ],
   "source": [
    "# Checking for NULL/nan values in the data and Removing them\n",
    "sales_codes_df=sales_codes_df.na.drop(\"any\")\n",
    "vehicle_hash_df=vehicle_hash_df.na.drop(\"any\")\n",
    "engines_df=engines_df.na.drop(\"any\")\n",
    "sales_codes_df.printSchema()\n",
    "sales_codes_df.show(10)\n",
    "sales_codes_df.count()"
   ]
  },
  {
   "cell_type": "markdown",
   "metadata": {},
   "source": [
    "### Cleaned Dataframes "
   ]
  },
  {
   "cell_type": "code",
   "execution_count": 26,
   "metadata": {},
   "outputs": [
    {
     "name": "stdout",
     "output_type": "stream",
     "text": [
      "+--------------------+---------------+-------------------+--------------------+-----------------+------------+\n",
      "|      h_vehicle_hash|production_date|            country|    sales_code_array|Engine Sales Code|Engines used|\n",
      "+--------------------+---------------+-------------------+--------------------+-----------------+------------+\n",
      "|33f4215da96af4dfb...|     2017-12-21|  Serbia Montenegro|[Z5L, M3M, H8U, P...|              Z5L|      OM 460|\n",
      "|5652bc231dd43ca6a...|     2021-04-21|            Germany|[Z5C, M2E, N7W, E...|              Z5C|      OM 936|\n",
      "|fc036bd4d5409fc9f...|     2019-09-08|            Germany|[Z5B, M1I, R5N, Q...|              Z5B|      OM 934|\n",
      "|00cb7b6fc44b7d6cd...|     2013-08-04|              Qatar|[Z5C, M2C, O5T, Y...|              Z5C|      OM 936|\n",
      "|251c5da8b2c0a9dd0...|     2012-11-02|            Germany|[Z5D, M2R, W3Z, Z...|              Z5D|      OM 470|\n",
      "|75182f7a6a01463f1...|     2018-04-18|             Jordan|[Z5F, M3V, R4P, V...|              Z5F|      OM 473|\n",
      "|9197101097ac8a84f...|     2011-11-10|             Bhutan|[Z5F, M3N, C5J, A...|              Z5F|      OM 473|\n",
      "|22825d08d3218cb0a...|     2021-04-25|               Iran|[Z5B, M1H, D2H, S...|              Z5B|      OM 934|\n",
      "|bb752945a202795c0...|     2017-01-11|             Turkey|[Z5L, M3H, A2P, Q...|              Z5L|      OM 460|\n",
      "|2f7b85e81ac6bb58a...|     2015-05-30|Republic Of Moldova|[Z5L, M3M, Q4N, P...|              Z5L|      OM 460|\n",
      "+--------------------+---------------+-------------------+--------------------+-----------------+------------+\n",
      "only showing top 10 rows\n",
      "\n",
      "+--------------------+-----------------+-------------+----------+\n",
      "|      h_vehicle_hash|              fin|record_source|   load_ts|\n",
      "+--------------------+-----------------+-------------+----------+\n",
      "|924d229bede272c5a...|WEB14561113188001|        vedoc|2021-11-26|\n",
      "|3787a8db036dabd74...|W1T61600516560507|        vedoc|2021-11-26|\n",
      "|aea31cdf4f575acf1...|WEB74212637167838|        vedoc|2021-11-26|\n",
      "|d92ed338496281e08...|WDB73045113294326|        vedoc|2021-11-26|\n",
      "|7934c4872515da4b1...|W1T38483757441350|        vedoc|2021-11-26|\n",
      "|14099ecd0625030ad...|WEB82551539603557|        vedoc|2021-11-26|\n",
      "|31af1c9e3162b07c3...|W1T84369654532934|        vedoc|2021-11-26|\n",
      "|79313aefe4936c52f...|WDB11960124228241|        vedoc|2021-11-26|\n",
      "|5b15f251639c1ff25...|WDB85824751704234|        vedoc|2021-11-26|\n",
      "|70d85da3bc330c69b...|NMB84740361813870|        vedoc|2021-11-26|\n",
      "+--------------------+-----------------+-------------+----------+\n",
      "only showing top 10 rows\n",
      "\n",
      "root\n",
      " |-- h_vehicle_hash: string (nullable = true)\n",
      " |-- production_date: date (nullable = true)\n",
      " |-- country: string (nullable = true)\n",
      " |-- sales_code_array: array (nullable = true)\n",
      " |    |-- element: string (containsNull = true)\n",
      " |-- Engine Sales Code: string (nullable = false)\n",
      " |-- Engines used: string (nullable = false)\n",
      "\n",
      "root\n",
      " |-- h_vehicle_hash: string (nullable = true)\n",
      " |-- fin: string (nullable = true)\n",
      " |-- record_source: string (nullable = true)\n",
      " |-- load_ts: date (nullable = true)\n",
      "\n"
     ]
    },
    {
     "data": {
      "text/plain": [
       "(404, 494)"
      ]
     },
     "execution_count": 26,
     "metadata": {},
     "output_type": "execute_result"
    }
   ],
   "source": [
    "# Displays the cleaned dataframes\n",
    "sales_codes_df.show(10),vehicle_hash_df.show(10)\n",
    "sales_codes_df.printSchema(),vehicle_hash_df.printSchema()\n",
    "sales_codes_df.count(),vehicle_hash_df.count()"
   ]
  },
  {
   "cell_type": "markdown",
   "metadata": {},
   "source": [
    "#### Note:\n",
    "The Dataframes have been cleaned and are ready for further processing."
   ]
  },
  {
   "cell_type": "markdown",
   "metadata": {},
   "source": [
    "## 3- Merging the dataframes \n",
    "******************************************************************************************************************"
   ]
  },
  {
   "cell_type": "code",
   "execution_count": 27,
   "metadata": {},
   "outputs": [],
   "source": [
    "# Merging DF with h_vhicle_hash as the key \n",
    "merged_vehicle_DF=sales_codes_df.join(vehicle_hash_df,sales_codes_df.h_vehicle_hash == vehicle_hash_df.h_vehicle_hash,\"inner\")"
   ]
  },
  {
   "cell_type": "code",
   "execution_count": 28,
   "metadata": {},
   "outputs": [
    {
     "name": "stdout",
     "output_type": "stream",
     "text": [
      "+--------------------+---------------+-----------------+--------------------+-----------------+------------+--------------------+-----------------+-------------+----------+\n",
      "|      h_vehicle_hash|production_date|          country|    sales_code_array|Engine Sales Code|Engines used|      h_vehicle_hash|              fin|record_source|   load_ts|\n",
      "+--------------------+---------------+-----------------+--------------------+-----------------+------------+--------------------+-----------------+-------------+----------+\n",
      "|33f4215da96af4dfb...|     2017-12-21|Serbia Montenegro|[Z5L, M3M, H8U, P...|              Z5L|      OM 460|33f4215da96af4dfb...|W1T59495989046715|        vedoc|2021-11-26|\n",
      "|5652bc231dd43ca6a...|     2021-04-21|          Germany|[Z5C, M2E, N7W, E...|              Z5C|      OM 936|5652bc231dd43ca6a...|WDB14569296263563|        vedoc|2021-11-26|\n",
      "|fc036bd4d5409fc9f...|     2019-09-08|          Germany|[Z5B, M1I, R5N, Q...|              Z5B|      OM 934|fc036bd4d5409fc9f...|WEB93242568855045|        vedoc|2021-11-26|\n",
      "|00cb7b6fc44b7d6cd...|     2013-08-04|            Qatar|[Z5C, M2C, O5T, Y...|              Z5C|      OM 936|00cb7b6fc44b7d6cd...|W1T87125817097084|        vedoc|2021-11-26|\n",
      "|251c5da8b2c0a9dd0...|     2012-11-02|          Germany|[Z5D, M2R, W3Z, Z...|              Z5D|      OM 470|251c5da8b2c0a9dd0...|NMB30945614935018|        vedoc|2021-11-26|\n",
      "+--------------------+---------------+-----------------+--------------------+-----------------+------------+--------------------+-----------------+-------------+----------+\n",
      "only showing top 5 rows\n",
      "\n"
     ]
    },
    {
     "data": {
      "text/plain": [
       "398"
      ]
     },
     "execution_count": 28,
     "metadata": {},
     "output_type": "execute_result"
    }
   ],
   "source": [
    "# Displaying the newly created dataframe\n",
    "merged_vehicle_DF.show(5)\n",
    "merged_vehicle_DF.count()"
   ]
  },
  {
   "cell_type": "markdown",
   "metadata": {},
   "source": [
    "## 4- Final Dataframe \n",
    "####  consists of fin,  production_date, country, sales_code_array\n",
    "*******************************************************************************************************************************"
   ]
  },
  {
   "cell_type": "code",
   "execution_count": 29,
   "metadata": {},
   "outputs": [
    {
     "name": "stdout",
     "output_type": "stream",
     "text": [
      "+-----------------+---------------+-------------------+--------------------+\n",
      "|              fin|production_date|            country|    sales_code_array|\n",
      "+-----------------+---------------+-------------------+--------------------+\n",
      "|W1T59495989046715|     2017-12-21|  Serbia Montenegro|[Z5L, M3M, H8U, P...|\n",
      "|WDB14569296263563|     2021-04-21|            Germany|[Z5C, M2E, N7W, E...|\n",
      "|WEB93242568855045|     2019-09-08|            Germany|[Z5B, M1I, R5N, Q...|\n",
      "|W1T87125817097084|     2013-08-04|              Qatar|[Z5C, M2C, O5T, Y...|\n",
      "|NMB30945614935018|     2012-11-02|            Germany|[Z5D, M2R, W3Z, Z...|\n",
      "|W1T86983370738640|     2018-04-18|             Jordan|[Z5F, M3V, R4P, V...|\n",
      "|WDB64784317986685|     2011-11-10|             Bhutan|[Z5F, M3N, C5J, A...|\n",
      "|NMB13893965899050|     2021-04-25|               Iran|[Z5B, M1H, D2H, S...|\n",
      "|NMB91532838482279|     2017-01-11|             Turkey|[Z5L, M3H, A2P, Q...|\n",
      "|WDB12124059592712|     2015-05-30|Republic Of Moldova|[Z5L, M3M, Q4N, P...|\n",
      "+-----------------+---------------+-------------------+--------------------+\n",
      "only showing top 10 rows\n",
      "\n"
     ]
    },
    {
     "data": {
      "text/plain": [
       "398"
      ]
     },
     "execution_count": 29,
     "metadata": {},
     "output_type": "execute_result"
    }
   ],
   "source": [
    "# Final data prepared after cleaning, pre-processing and transformation\n",
    "vehicle_df=merged_vehicle_DF.select(\"fin\",\"production_date\",\"country\",\"sales_code_array\")\n",
    "# Display\n",
    "vehicle_df.show(10)\n",
    "vehicle_df.count()"
   ]
  },
  {
   "cell_type": "code",
   "execution_count": 30,
   "metadata": {},
   "outputs": [],
   "source": [
    "# Appending the Existing vehicle_data.xlsx with a new sheet from the merged data\n",
    "import openpyxl\n",
    "book = openpyxl.load_workbook('vehicle_data.xlsx') #Already existing workbook\n",
    "writer = pandas.ExcelWriter('vehicle_data.xlsx', engine='openpyxl') #Using openpyxl\n",
    "\n",
    "#Migrating the already existing worksheets to writer\n",
    "writer.book = book\n",
    "writer.sheets = {x.title: x for x in book.worksheets}\n",
    "\n",
    "vehicle_df.toPandas().to_excel(writer, sheet_name='merged vehicle data')\n",
    "writer.save()"
   ]
  },
  {
   "cell_type": "markdown",
   "metadata": {},
   "source": [
    "# Task 2: Data Science\n",
    "********************************************************"
   ]
  },
  {
   "cell_type": "markdown",
   "metadata": {},
   "source": [
    "## 1- What are the top three countries in which between 01/01/2014 and 31/12/2020 most vehicles were sold?\n"
   ]
  },
  {
   "cell_type": "code",
   "execution_count": null,
   "metadata": {},
   "outputs": [],
   "source": [
    "# Filtering countries based on Dates\n",
    "# Grouping the countries together\n",
    "# Sorting Countries based on the count\n",
    "vehicle_df\\\n",
    ".filter((vehicle_df.production_date >= \"2014-01-01\") &\\\n",
    "        (vehicle_df.production_date <= \"2020-12-31\"))\\\n",
    ".groupBy(\"country\").count()\\\n",
    ".orderBy(\"count\",ascending=False).show(3) \n",
    "print(\"Result shows top three countries where most vehicles got sold between 01/01/2014 & 31/12/2020\")"
   ]
  },
  {
   "cell_type": "code",
   "execution_count": null,
   "metadata": {},
   "outputs": [],
   "source": [
    "# Exploring the result with WordCloud \n",
    "# importing the necessary modules\n",
    "# creating pandas df for wc plot\n",
    "from wordcloud import WordCloud\n",
    "import matplotlib.pyplot as plt\n",
    "\n",
    "wc_plot_df=vehicle_df\\\n",
    ".filter((vehicle_df.production_date >= \"2014-01-01\") &\\\n",
    "        (vehicle_df.production_date <= \"2020-12-31\") )\\\n",
    ".groupBy(\"country\").count()\\\n",
    ".orderBy(\"count\",ascending=False).toPandas()\n"
   ]
  },
  {
   "cell_type": "code",
   "execution_count": null,
   "metadata": {},
   "outputs": [],
   "source": [
    "data = wc_plot_df.set_index('country').to_dict()['count']   # Need data in dic type to proceed further\n",
    "wc = WordCloud(background_color=\"white\",width=800, height=400, max_words=200).generate_from_frequencies(data)\n",
    "plt.figure(figsize=(10, 10))\n",
    "plt.imshow(wc, interpolation='bilinear')\n",
    "print(\"Pictorial representation that depicts countries selling the most vehicles\")"
   ]
  },
  {
   "cell_type": "markdown",
   "metadata": {},
   "source": [
    "## 2- In which of these years, we have sold a total of most vehicles?"
   ]
  },
  {
   "cell_type": "code",
   "execution_count": null,
   "metadata": {},
   "outputs": [],
   "source": [
    "# Grouping the data by years and units sold in each year respectively\n",
    "vehicle_df.withColumn(\"production_date\",year(vehicle_df.production_date))\\\n",
    ".groupBy(\"production_date\").count()\\\n",
    ".orderBy(\"count\",ascending=False).show()\n",
    "print(\"Total number of units sold in each year\")"
   ]
  },
  {
   "cell_type": "code",
   "execution_count": null,
   "metadata": {},
   "outputs": [],
   "source": [
    "# Representing the results with a bar plot \n",
    "import seaborn \n",
    "bar_plt_df=vehicle_df.withColumn(\"production_date\",year(vehicle_df.production_date))\\\n",
    ".groupBy(\"production_date\").count()\\\n",
    ".orderBy(\"count\",ascending=False).toPandas()\n",
    "seaborn.barplot(x='production_date',y='count',data=bar_plt_df)"
   ]
  },
  {
   "cell_type": "markdown",
   "metadata": {},
   "source": [
    "## 3- Which FIN is the first vehicle sold in terms of time?\n",
    " "
   ]
  },
  {
   "cell_type": "code",
   "execution_count": null,
   "metadata": {},
   "outputs": [],
   "source": [
    "# first vehicle stores the result as a list/first elelment of the dataframe after sorting with date \n",
    "first_vehicle=vehicle_df.sort(\"production_date\").select(\"fin\",\"production_date\",\"country\").first()\n",
    "first_vehicle"
   ]
  },
  {
   "cell_type": "code",
   "execution_count": null,
   "metadata": {},
   "outputs": [],
   "source": [
    "print(\"fin:'{0}' is the first vehicle corresponding to date:'{1}', shipped to '{2}'\"\\\n",
    "      .format(first_vehicle[0],first_vehicle[1],first_vehicle[2]))"
   ]
  },
  {
   "cell_type": "markdown",
   "metadata": {},
   "source": [
    "## 4- How many vehicles were sold between 01/01/2017 and 01/01/2021 with OM934, OM936, OM470 and OM471 engines ?"
   ]
  },
  {
   "cell_type": "code",
   "execution_count": null,
   "metadata": {},
   "outputs": [],
   "source": [
    "# task 2 part 4 (method 1)\n",
    "test_df=vehicle_df.withColumn(\"engine_sales_code\", vehicle_df[\"sales_code_array\"].getItem(0))\n",
    "test_df=test_df.join(engines_df,test_df.engine_sales_code == engines_df[\"Sales Code\"],\"inner\")\\\n",
    ".select(\"fin\",\"production_date\",\"country\",\"engine_sales_code\",\"Code Description En\")\n",
    "#test_df.show()\n",
    "result_df=test_df.filter((test_df[\"production_date\"]>=\"2017-01-01\") &\\\n",
    "              (test_df[\"production_date\"]<=\"2021-01-01\"))\\\n",
    ".where((test_df.engine_sales_code == \"Z5B\") | (test_df.engine_sales_code == \"Z5C\")\\\n",
    "      | (test_df.engine_sales_code == \"Z5D\") | (test_df.engine_sales_code == \"Z5E\"))\n",
    "result_df.show()\n",
    "result_df.count()"
   ]
  },
  {
   "cell_type": "code",
   "execution_count": null,
   "metadata": {},
   "outputs": [],
   "source": [
    "result_df.groupBy(\"engine_sales_code\",\"Code Description En\").count().show()"
   ]
  },
  {
   "cell_type": "code",
   "execution_count": null,
   "metadata": {},
   "outputs": [],
   "source": [
    "# solution 2 task 2 part 4\n",
    "sample_df=vehicle_df.filter((array_contains(vehicle_df.sales_code_array,'Z5B'))\\\n",
    "                            | (array_contains(vehicle_df.sales_code_array,'Z5C'))\\\n",
    "                            | (array_contains(vehicle_df.sales_code_array,'Z5D'))\\\n",
    "                            | (array_contains(vehicle_df.sales_code_array,'Z5E')))\\\n",
    ".where((vehicle_df[\"production_date\"]>=\"2017-01-01\") & (vehicle_df[\"production_date\"]<=\"2021-01-01\"))\n",
    "sample_df.show()"
   ]
  },
  {
   "cell_type": "markdown",
   "metadata": {},
   "source": [
    "## 5- Which vehicles (FIN) were sold to New Zealand between 01/01/2017 and 01/01/2021 and with an OM936 engine?"
   ]
  },
  {
   "cell_type": "code",
   "execution_count": null,
   "metadata": {},
   "outputs": [],
   "source": [
    "result_df1=test_df.filter((test_df[\"production_date\"]>=\"2017-01-01\") &\\\n",
    "              (test_df[\"production_date\"]<=\"2021-01-01\") &\\\n",
    "              (test_df[\"country\"]==\"Neuseeland\"))\\\n",
    ".where((test_df.engine_sales_code == \"Z5B\") | (test_df.engine_sales_code == \"Z5C\")\\\n",
    "      | (test_df.engine_sales_code == \"Z5D\") | (test_df.engine_sales_code == \"Z5E\"))\n",
    "result_df1.show()\n",
    "result_df1.count()"
   ]
  },
  {
   "cell_type": "code",
   "execution_count": null,
   "metadata": {},
   "outputs": [],
   "source": [
    "# Solution 2 task 2 part 5\n",
    "sample_df1=vehicle_df.filter(array_contains(vehicle_df.sales_code_array,'Z5C'))\\\n",
    ".where((vehicle_df[\"production_date\"]>=\"2017-01-01\") & (vehicle_df[\"production_date\"]<=\"2021-01-01\")\\\n",
    "      & (vehicle_df[\"country\"]==\"Neuseeland\"))\n",
    "sample_df1.show()\n",
    "sample_df1.count()"
   ]
  }
 ],
 "metadata": {
  "kernelspec": {
   "display_name": "Python 3",
   "language": "python",
   "name": "python3"
  },
  "language_info": {
   "codemirror_mode": {
    "name": "ipython",
    "version": 3
   },
   "file_extension": ".py",
   "mimetype": "text/x-python",
   "name": "python",
   "nbconvert_exporter": "python",
   "pygments_lexer": "ipython3",
   "version": "3.7.4"
  }
 },
 "nbformat": 4,
 "nbformat_minor": 2
}
